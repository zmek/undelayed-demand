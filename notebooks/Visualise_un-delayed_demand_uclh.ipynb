{
 "cells": [
  {
   "cell_type": "markdown",
   "id": "b25050b2-0977-490a-930c-a0ff13d8a2d4",
   "metadata": {},
   "source": [
    "# Visualise un-delayed demand for beds for admitted patients\n",
    "\n",
    "One reason why Emergency Departments (EDs) fail to meet admissions targets is because beds are not available at the time patients arrive. Most discharges happen in the afternoon, so patients arriving at night into a full hospital often have to wait until late the following day to be admitted. UCLH wanted to understand their un-delayed demand over the course of a day - that is, when beds would be needed if patients were processed within the 4-hour target time. A formal term for this (used in queueing theory) is \"offered load\". Here we use \"un-delayed demand\" as it better conveys the concept to healthcare staff. UCLH wanted to understand their undelayed demand patterns to inform an improvement project focus on their emergency patient pathway.\n",
    "\n",
    "This notebook generates charts that aim to answer the following questions: \n",
    "\n",
    "* What is the typical pattern of arrivals of admitted patients over the day?\n",
    "* If ED was meeting 4-hour targets for admitted patients, when would beds for these patients need to be ready?**\n",
    "* Are there differences in the above between weekends and weekdays? \n",
    "* The discharge window, when decision-makers are on wards, is between 8.30 am and 5 pm. If a hospital wants to meet its ED targets on a consistent basis, then there should be enough empty beds to cover demand over night by the end of the discharge window when decision-makers leave. How many beds would need to be available at the end of discharge window to cover all demand over night? \n",
    "\n",
    "To answer these questions we will prepare a model using only \n",
    "\n",
    "* historical arrival rates of patients later admitted\n",
    "* 4-hour targets for ED. We assume that the hospital might want to choose a certain percentage of admitted patients to be processed into a bed within 4 hours, accordingly to current targets. \n",
    "\n",
    "Here we refer to both Emergency Department (EDs) and Same Day Emergency Care (SDECs) since patients can be admitted to the hospital from both. \n",
    "\n",
    "\n"
   ]
  },
  {
   "cell_type": "markdown",
   "id": "4b447d6f-6ce6-47f9-bd27-3839841e7a2a",
   "metadata": {
    "tags": []
   },
   "source": [
    "## Set up the notebook environment"
   ]
  },
  {
   "cell_type": "code",
   "execution_count": null,
   "id": "ba096393-44cf-4351-a76d-dc8ab80ca720",
   "metadata": {
    "tags": []
   },
   "outputs": [],
   "source": [
    "# Reload functions every time\n",
    "%load_ext autoreload \n",
    "%autoreload 2"
   ]
  },
  {
   "cell_type": "code",
   "execution_count": null,
   "id": "c2ef0ed2-a32d-4faa-9c38-3a3b94d6bd38",
   "metadata": {
    "tags": []
   },
   "outputs": [],
   "source": [
    "from patientflow.load import set_project_root\n",
    "project_root = set_project_root()"
   ]
  },
  {
   "cell_type": "markdown",
   "id": "8364065f-b8ef-48e6-85b7-5ad58c3de274",
   "metadata": {},
   "source": [
    "## Set file paths"
   ]
  },
  {
   "cell_type": "code",
   "execution_count": null,
   "id": "db67ecea-5ed8-4a53-b100-7861d7e4c765",
   "metadata": {},
   "outputs": [],
   "source": [
    "from patientflow.load import set_file_paths\n",
    "from patientflow.load import load_config_file\n",
    "\n",
    "# set file locations\n",
    "data_folder_name = 'data-raw-undelayed-demand' \n",
    "\n",
    "# set file paths\n",
    "data_file_path, media_file_path, model_file_path, config_path = set_file_paths(project_root, \n",
    "               data_folder_name=data_folder_name, config_file='config-uclh.yaml')\n",
    "\n",
    "# create subfolders for weekdays and weekends\n",
    "media_file_path_weekdays = media_file_path / 'undelayed-demand-uclh' / 'weekdays'\n",
    "media_file_path_weekends = media_file_path / 'undelayed-demand-uclh' / 'weekends'\n",
    "media_file_path_all_days = media_file_path / 'undelayed-demand-uclh' / 'all_days'\n",
    "\n",
    "    \n",
    "media_file_path_weekdays.mkdir(parents=True, exist_ok=True)\n",
    "media_file_path_weekends.mkdir(parents=True, exist_ok=True)\n",
    "media_file_path_all_days.mkdir(parents=True, exist_ok=True)"
   ]
  },
  {
   "cell_type": "markdown",
   "id": "b6266a1b-b0eb-4f96-9480-490bd773a86a",
   "metadata": {},
   "source": [
    "## Load parameters\n",
    "\n",
    "These are set in config.json. "
   ]
  },
  {
   "cell_type": "code",
   "execution_count": null,
   "id": "032a1d4b-590b-4de0-bf04-c5aca365b1d5",
   "metadata": {},
   "outputs": [],
   "source": [
    "# load params from config file\n",
    "params = load_config_file(config_path)\n",
    "\n",
    "# prediction_times = params[\"prediction_times\"]\n",
    "# start_training_set, start_validation_set, start_test_set, end_test_set = params[\"start_training_set\"], params[\"start_validation_set\"], params[\"start_test_set\"], params[\"end_test_set\"]\n",
    "x1, y1, x2, y2 = params[\"x1\"], params[\"y1\"], params[\"x2\"], params[\"y2\"]\n",
    "# prediction_window = params[\"prediction_window\"]\n",
    "# epsilon = float(params[\"epsilon\"])\n",
    "yta_time_interval = params[\"yta_time_interval\"]\n",
    "\n",
    "print(f'The aspiration is for {y1*100}% of patients to be admitted within {x1} hours, and {y2*100}% of patients to be admitted within {x2} hours')"
   ]
  },
  {
   "cell_type": "markdown",
   "id": "643d6048-2da2-4a54-ab8e-e6ce6df2dbab",
   "metadata": {},
   "source": [
    "## Load data\n",
    "\n",
    "Here we load the data. NOTE - the public data is a subset of UCLH arrivals, so the charts here will underestimate the demand at UCLH. "
   ]
  },
  {
   "cell_type": "code",
   "execution_count": null,
   "id": "aa5527c5-7fc6-4a6d-96cf-da1bedc0f423",
   "metadata": {
    "tags": []
   },
   "outputs": [],
   "source": [
    "import pandas as pd\n",
    "import numpy as np\n",
    "from patientflow.load import load_data\n",
    "\n",
    "# load data\n",
    "inpatient_arrivals = load_data(data_file_path, \n",
    "                    file_name='ed_sdec_ct_5.csv')\n",
    "inpatient_arrivals['arrival_datetime'] = pd.to_datetime(inpatient_arrivals['arrival_datetime'], utc = True)\n",
    "inpatient_arrivals.set_index('arrival_datetime', inplace=True)\n",
    "\n",
    "# select only data from 2023 onwards\n",
    "inpatient_arrivals = inpatient_arrivals[inpatient_arrivals.index > '2023-01-01']\n",
    "\n",
    "\n",
    "weekdays = inpatient_arrivals[(inpatient_arrivals.index.weekday < 5) & (inpatient_arrivals.index > '2023-01-01')]\n",
    "weekends = inpatient_arrivals[(inpatient_arrivals.index.weekday >= 5) & (inpatient_arrivals.index > '2023-01-01')]"
   ]
  },
  {
   "cell_type": "markdown",
   "id": "483be4f1-f947-416b-a8c0-98873d775f27",
   "metadata": {},
   "source": [
    "To get the correct demominator when calculating average arrival rates per weekday and weekend, we need to calculate the number of weekdays or weekends, and pass this into the function. Assuming that there was at least one inpatient per day, we can do this by counting the number of days in each dataset"
   ]
  },
  {
   "cell_type": "code",
   "execution_count": null,
   "id": "8a60381f-5fbd-4447-8ca1-6158e2443d7b",
   "metadata": {
    "tags": []
   },
   "outputs": [],
   "source": [
    "num_weekdays = len(np.unique(weekdays.index.date))\n",
    "num_weekends = len(np.unique(weekends.index.date))\n",
    "\n",
    "print(f\"On average, there were {len(weekdays)/num_weekdays:.1f} inpatients admitted per day over the {num_weekdays} weekdays included\")\n",
    "print(f\"On average, there were {len(weekends)/num_weekends:.1f} inpatients admitted per day over the {num_weekends} weekend days included\")"
   ]
  },
  {
   "cell_type": "code",
   "execution_count": null,
   "id": "c1eb42e3-98e6-4330-9a5a-bbba19b8e65e",
   "metadata": {},
   "outputs": [],
   "source": [
    "# summarise\n",
    "print(f\"Weekday dates span {weekdays.index.date.min()} to {weekdays.index.date.max()}\")\n",
    "print(f\"Weekend dates span {weekends.index.date.min()} to {weekends.index.date.max()}\")\n",
    "\n"
   ]
  },
  {
   "cell_type": "markdown",
   "id": "d8ff6780-2232-43ed-b02a-e9581980c4bf",
   "metadata": {},
   "source": [
    "Note how simple the dataset is that is used in the rest of this notebook. The only columns used are the arrival_datetime index, and (at the very end of the notebook) the specialty of admission. Similar breakdown as for specialty could be done for by sex or for adults/children, if useful."
   ]
  },
  {
   "cell_type": "code",
   "execution_count": null,
   "id": "58e3452c-4e85-46ee-a143-0837f540387b",
   "metadata": {},
   "outputs": [],
   "source": [
    "inpatient_arrivals.dtypes"
   ]
  },
  {
   "cell_type": "markdown",
   "id": "f7a33fde-f939-4c69-ae8c-d745b4cbf838",
   "metadata": {
    "jp-MarkdownHeadingCollapsed": true
   },
   "source": [
    "## Get arrival rates by hour\n"
   ]
  },
  {
   "cell_type": "markdown",
   "id": "bf50f697-6f8c-42c3-9bf7-948b526a06e3",
   "metadata": {},
   "source": [
    "### Calculate the arrival rates for each hour of the day, at weekdays and weekends, using the historical data"
   ]
  },
  {
   "cell_type": "code",
   "execution_count": null,
   "id": "b9284a18-250b-431c-8a92-b816b4d87a9e",
   "metadata": {},
   "outputs": [],
   "source": [
    "print(f\"On average, there were {inpatient_arrivals[(inpatient_arrivals.index > '2023-01-01')].resample('D').size().mean():.3f} inpatients admitted per day\")"
   ]
  },
  {
   "cell_type": "code",
   "execution_count": null,
   "id": "20a9d155-021c-49ff-aebd-6f38be586381",
   "metadata": {},
   "outputs": [],
   "source": [
    "from patientflow.calculate import time_varying_arrival_rates\n",
    "\n",
    "arrival_rates_by_time_interval = time_varying_arrival_rates(\n",
    "    df=inpatient_arrivals[(inpatient_arrivals.index > '2023-01-01')],\n",
    "    yta_time_interval=yta_time_interval,\n",
    "    verbose=True,\n",
    ")"
   ]
  },
  {
   "cell_type": "markdown",
   "id": "c4b57895-cbaa-4db7-9517-412ff77be902",
   "metadata": {},
   "source": [
    "The dictionary returned by this function breaks out the arrival rates into intervals defined by yta_time_interval"
   ]
  },
  {
   "cell_type": "code",
   "execution_count": null,
   "id": "6c1b25e0-2be9-49ca-b431-5915b5d5dd7e",
   "metadata": {},
   "outputs": [],
   "source": [
    "# arrival_rates_by_time_interval"
   ]
  },
  {
   "cell_type": "markdown",
   "id": "84a9b84e-4c70-4924-9cf8-70bc9f22afe3",
   "metadata": {},
   "source": [
    "Below, confirming that the sum of these intervals equates to the same value"
   ]
  },
  {
   "cell_type": "code",
   "execution_count": null,
   "id": "ab00499a-825e-4a16-ab4a-efd5d9ca6024",
   "metadata": {},
   "outputs": [],
   "source": [
    "sum(arrival_rates_by_time_interval.values())"
   ]
  },
  {
   "cell_type": "markdown",
   "id": "3d6f1d9b-34c6-42bd-ad57-4cad17f1eef7",
   "metadata": {
    "jp-MarkdownHeadingCollapsed": true
   },
   "source": [
    "## Create scenarios\n",
    "\n",
    "We first define a dictionary of scenarios we'd like to plot. (This is simply to reduce lines of code.)"
   ]
  },
  {
   "cell_type": "code",
   "execution_count": null,
   "id": "9525645a-fb82-4b56-85eb-7c77e4423f90",
   "metadata": {},
   "outputs": [],
   "source": [
    "scenarios = {\n",
    "    'weekdays' : {\n",
    "            'data': weekdays,\n",
    "            'file_path': media_file_path_weekdays,\n",
    "            'label': 'weekdays',\n",
    "            'num_days': num_weekdays\n",
    "        },\n",
    "    'weekends' : {\n",
    "        'data': weekends,\n",
    "        'file_path': media_file_path_weekends,\n",
    "        'label': 'weekends',\n",
    "        'num_days': num_weekends,        \n",
    "    }\n",
    "}\n"
   ]
  },
  {
   "cell_type": "markdown",
   "id": "fe3eeb07-dd5d-4adf-bb90-292bf4d000e6",
   "metadata": {},
   "source": [
    "### Plot the arrival rates for each hour of the day, at weekdays and weekends, using the historical data"
   ]
  },
  {
   "cell_type": "code",
   "execution_count": null,
   "id": "e1814d07",
   "metadata": {},
   "outputs": [],
   "source": [
    "from patientflow.viz.arrival_rates import plot_arrival_rates\n",
    "from datetime import timedelta\n",
    "\n",
    "# Set the plot to start at the 8th hour of the day (if not set the function will default to starting at midnight\n",
    "start_plot_index = 8\n",
    "\n",
    "# plot for weekdays\n",
    "title = f'Hourly arrival rates of admitted patients starting at {start_plot_index} am - weekdays from {weekdays.index.date.min()} to {weekdays.index.date.max()}'\n",
    "plot_arrival_rates(weekdays, \n",
    "                   title, \n",
    "                   time_interval=60, \n",
    "                   start_plot_index=start_plot_index, \n",
    "                   file_prefix = '1_',\n",
    "                   media_file_path=media_file_path_weekdays,\n",
    "                  num_days=num_weekdays)\n",
    "\n",
    "# plot for weekends\n",
    "title = f'Hourly arrival rates of admitted patients starting at {start_plot_index} am - weekends from {weekends.index.date.min()} to {weekends.index.date.max()}'\n",
    "plot_arrival_rates(weekends, \n",
    "                   title, \n",
    "                   time_interval=60, \n",
    "                   start_plot_index=start_plot_index, \n",
    "                   file_prefix = '1_',\n",
    "                   media_file_path=media_file_path_weekends,\n",
    "                  num_days=num_weekends\n",
    "                   )\n",
    "\n",
    "\n",
    "# plot for both\n",
    "title = f'Hourly arrival rates of admitted patients starting at {start_plot_index} am - all days from {inpatient_arrivals.index.date.min()} to {inpatient_arrivals.index.date.max()}'\n",
    "plot_arrival_rates(inpatient_arrivals=weekdays,\n",
    "                        inpatient_arrivals_2=weekends, \n",
    "                    labels=('Weekdays', 'Weekends'),\n",
    "                   title=title, \n",
    "                   time_interval=60, \n",
    "                   start_plot_index=start_plot_index, \n",
    "                   file_prefix = '1_',\n",
    "                   media_file_path=media_file_path_all_days,\n",
    "                   num_days=num_weekdays,\n",
    "                   num_days_2=num_weekends\n",
    "                   )"
   ]
  },
  {
   "cell_type": "markdown",
   "id": "9c50556c-24ae-4c00-be91-7980b5de7536",
   "metadata": {
    "jp-MarkdownHeadingCollapsed": true
   },
   "source": [
    "## Plot the time beds would be needed if each patient were admitted exactly 4 hours after arrival\n",
    "\n",
    "We now make the assumption that the bed is needed exactly 4 hours after arrival. This assumes that every patient meets the 4-hour target, and that there is no variation in the time it takes people to be processed through ED/SDEC, so it is not realistic, but serves as a starting point. "
   ]
  },
  {
   "cell_type": "code",
   "execution_count": null,
   "id": "bf6f4351",
   "metadata": {},
   "outputs": [],
   "source": [
    "title = 'Average number of beds needed this hour on weekdays,\\nif each patient is admitted exactly four hours after arrival, starting at 8 am'\n",
    "plot_arrival_rates(weekdays,\n",
    "                   title, \n",
    "                   time_interval=60, \n",
    "                   start_plot_index=start_plot_index, \n",
    "                   file_prefix = '2_', \n",
    "                   lagged_by=4,\n",
    "                    media_file_path=media_file_path_weekdays,\n",
    "                   num_days=num_weekdays,\n",
    ")\n",
    "\n",
    "title = 'Average number of beds needed this hour on weekends,\\nif each patient is admitted exactly four hours after arrival, starting at 8 am'\n",
    "plot_arrival_rates(weekends,\n",
    "                   title, \n",
    "                   time_interval=60, \n",
    "                   start_plot_index=start_plot_index, \n",
    "                   file_prefix = '2_', \n",
    "                   lagged_by=4,\n",
    "                    media_file_path=media_file_path_weekends,\n",
    "                   num_days=num_weekends,\n",
    ")"
   ]
  },
  {
   "cell_type": "markdown",
   "id": "c80a8bc9-3769-498e-850b-3cd051e440d4",
   "metadata": {
    "jp-MarkdownHeadingCollapsed": true
   },
   "source": [
    "## Plot cumulative arrival rates\n",
    "\n",
    "We can show the same information as above, counting the beds needed cumulatively over the day.   "
   ]
  },
  {
   "cell_type": "code",
   "execution_count": null,
   "id": "17f5c63f-bb6e-45b5-8fc6-b3f41f61612d",
   "metadata": {},
   "outputs": [],
   "source": [
    "from patientflow.viz.arrival_rates import plot_cumulative_arrival_rates\n",
    "title = f'Cumulative number of beds needed on weekdays, by hour of the day,\\n if each incoming patient is admitted exactly four hours after arrival, starting at 8 am'\n",
    "plot_cumulative_arrival_rates(\n",
    "    weekdays,\n",
    "    title,\n",
    "    start_plot_index=8,\n",
    "    media_file_path=media_file_path_weekdays,\n",
    "    file_prefix='3_',\n",
    "    num_days=num_weekdays\n",
    ")"
   ]
  },
  {
   "cell_type": "markdown",
   "id": "d038f32c-1abb-45e1-a0fd-890d48fa61b0",
   "metadata": {
    "jp-MarkdownHeadingCollapsed": true
   },
   "source": [
    "## Now considering the discharge window\n",
    "\n",
    "Here we are interested in bringing forward the number of beds vacated at each hour, such that the necessary number of beds are vacated within the influenceable window before decision-makers leave the wards"
   ]
  },
  {
   "cell_type": "code",
   "execution_count": null,
   "id": "1d586077-a6b9-48a9-984a-02716852d947",
   "metadata": {},
   "outputs": [],
   "source": [
    "from patientflow.viz.arrival_rates import plot_cumulative_arrival_rates\n",
    "\n",
    "start_of_influencable_window = 8\n",
    "end_of_influencable_window = 17\n",
    "\n",
    "\n",
    "def plot_average_beds_needed(scenarios):\n",
    "    \"\"\"\n",
    "    Generate bed occupancy plots for both weekday and weekend data.\n",
    "    \"\"\"\n",
    "    \n",
    "    for key, scenario in scenarios.items():\n",
    "        # First plot: 17:00 end of influencable window\n",
    "        title = f'Cumulative number of beds to be vacated on {scenario[\"label\"]}, by hour of the day,\\n if all beds for overnight admissions are to be vacated by {17}00'\n",
    "        plot_cumulative_arrival_rates(\n",
    "            scenario['data'],\n",
    "            title,\n",
    "            start_plot_index=8,\n",
    "            draw_window=(start_of_influencable_window, 17),\n",
    "            media_file_path=scenario[\"file_path\"],\n",
    "            file_prefix='4_',\n",
    "            # set_y_lim=55,\n",
    "            num_days=scenario[\"num_days\"]\n",
    "        )\n",
    "        \n",
    "        # Second plot: 20:00 end of influencable window\n",
    "        title = f'Cumulative number of beds to be vacated on {scenario[\"label\"]}, by hour of the day,\\n if all beds for overnight admissions are to be vacated by {20}00'\n",
    "        plot_cumulative_arrival_rates(\n",
    "            scenario['data'],\n",
    "            title,\n",
    "            start_plot_index=8,\n",
    "            draw_window=(start_of_influencable_window, 20),\n",
    "            media_file_path=scenario[\"file_path\"],\n",
    "            file_prefix='4_',\n",
    "            # set_y_lim=55,\n",
    "            hour_lines=[12,17,20],\n",
    "            num_days=scenario[\"num_days\"]\n",
    "        )\n",
    "\n",
    "\n",
    "plot_average_beds_needed(\n",
    "    scenarios,\n",
    ")"
   ]
  },
  {
   "cell_type": "markdown",
   "id": "669806e6-f2bf-432e-8ca7-5fe9bddaaef7",
   "metadata": {
    "jp-MarkdownHeadingCollapsed": true
   },
   "source": [
    "\n",
    "## Introducing an aspirational approach\n",
    "\n",
    "As noted above, this is not very realistic as it assumes that every patient meets the 4-hour target, and that there is no variation in the time it takes people to be processed through ED/SDEC. Ideally patients would be processed sooner than 4 hours in most cases. \n",
    "\n",
    "We can instead use a probabilistic approach to determine whether any patient will be admitted within 4 hours. The probability is shown in the plot below."
   ]
  },
  {
   "cell_type": "code",
   "execution_count": null,
   "id": "7f863d09",
   "metadata": {},
   "outputs": [],
   "source": [
    "import matplotlib.pyplot as plt\n",
    "from patientflow.viz.aspirational_curve_plot import plot_curve\n",
    "\n",
    "figsize = (6,3)\n",
    "title = 'Aspirational curve reflecting a ' + str(int(x1)) + ' hour target for ' + str(int(y1*100)) + \\\n",
    "        '% of patients\\nand a '+ str(int(x2)) + ' hour target for ' + str(int(y2*100)) + '% of patients'\n",
    "\n",
    "plot_curve(\n",
    "    title = title,\n",
    "    x1 = x1,\n",
    "    y1 = y1,\n",
    "    x2 = x2,\n",
    "    y2 = y2,\n",
    "    figsize = (10,6),\n",
    "    include_titles=True,\n",
    "    text_size=14,\n",
    "    media_file_path=media_file_path_weekends,\n",
    "    file_name=title.replace(\" \", \"_\"),\n",
    ")\n"
   ]
  },
  {
   "cell_type": "markdown",
   "id": "876b6677",
   "metadata": {
    "jp-MarkdownHeadingCollapsed": true
   },
   "source": [
    "## Plot the time beds would be needed after applying the aspirational curve\n",
    "\n",
    "Here, the aspirational curve has been applied. It has the effect of smoothing out the times at which beds are needed (the solid line falls between the time people arrived and the line that is lagged by 4 hours)"
   ]
  },
  {
   "cell_type": "code",
   "execution_count": null,
   "id": "f08269c3-fca1-4e7b-8f19-8a61875f9040",
   "metadata": {},
   "outputs": [],
   "source": [
    "\n",
    "title = f'Number of beds needed for admitted patients by hour on weekdays\\nassuming ED targets of {int(y1*100)}% in {int(x1)} hours are hit, starting at 8 am'\n",
    "plot_arrival_rates(weekdays, title, start_plot_index = 8, \n",
    "                   lagged_by=4, \n",
    "                   curve_params=(x1, y1, x2, y2), \n",
    "                   file_prefix = '5_',\n",
    "                   media_file_path=media_file_path_weekdays,\n",
    "                  num_days=num_weekdays)\n",
    "\n",
    "\n",
    "# title = f'Number of beds needed for admitted patients by hour on weekends\\nassuming ED targets of {int(y1*100)}% in {int(x1)} hours are hit, starting at 8 am'\n",
    "# plot_arrival_rates(weekends, title, start_plot_index = 8, \n",
    "#                    lagged_by=4, \n",
    "#                    curve_params=(x1, y1, x2, y2), \n",
    "#                    file_prefix = '5_',\n",
    "#                     media_file_path=media_file_path_weekends,\n",
    "                  # num_days=num_weekends)\n",
    "\n",
    "\n",
    "\n",
    "# plot for both\n",
    "title = f'Number of beds needed for admitted patients by hour for all days\\nassuming ED targets of {int(y1*100)}% in {int(x1)} hours are hit, starting at 8 am'\n",
    "plot_arrival_rates(inpatient_arrivals=weekdays,\n",
    "                        inpatient_arrivals_2=weekends, \n",
    "                    labels=('Weekdays', 'Weekends'),\n",
    "                   title=title, \n",
    "                   # lagged_by=4, \n",
    "                   curve_params=(x1, y1, x2, y2), \n",
    "                    start_plot_index=start_plot_index, \n",
    "                   file_prefix = '5_',\n",
    "                   media_file_path=media_file_path_weekends,\n",
    "                  num_days=num_weekdays,\n",
    "                   num_days_2=num_weekends\n",
    "                   )"
   ]
  },
  {
   "cell_type": "markdown",
   "id": "78e93c34-a489-472d-8768-ef8418fbd25f",
   "metadata": {},
   "source": [
    "We can then plot the cumulative numbers required, applying the aspirational window as before"
   ]
  },
  {
   "cell_type": "code",
   "execution_count": null,
   "id": "4e9b1137-6d59-483b-8c2e-863ecd592280",
   "metadata": {},
   "outputs": [],
   "source": [
    "scenario = scenarios['weekdays']\n",
    "str(scenario[\"label\"])\n",
    "title = f'Cumulative number of beds needed on {scenario[\"label\"]}, by hour of the day,\\n after applying aspirational ED performance curve, starting at 8 am'\n",
    "title"
   ]
  },
  {
   "cell_type": "code",
   "execution_count": null,
   "id": "3b111e1c",
   "metadata": {},
   "outputs": [],
   "source": [
    "def plot_average_beds_needed_using_aspirational_curve(scenarios):\n",
    "    \"\"\"\n",
    "    Generate bed occupancy plots for both weekday and weekend data, after applying aspirational curve.\n",
    "    \"\"\"\n",
    "    \n",
    "    for key, scenario in scenarios.items():\n",
    "        # First plot: 4-hour admission delay\n",
    "        title = f'Cumulative number of beds needed on {scenario[\"label\"]}, by hour of the day,\\n after applying aspirational ED performance curve, starting at 8 am'\n",
    "        plot_cumulative_arrival_rates(\n",
    "            scenario['data'],\n",
    "            title,\n",
    "            curve_params=(x1, y1, x2, y2),\n",
    "            start_plot_index=8,\n",
    "            media_file_path=scenario[\"file_path\"],\n",
    "            file_prefix='6_',\n",
    "            num_days=scenario[\"num_days\"]\n",
    "        )\n",
    "        \n",
    "        # Second plot: 17:00 vacancy requirement\n",
    "        title = f'Cumulative number of beds to be vacated on {scenario[\"label\"]}, by hour of the day, after applying aspirational ED performance curve,\\n if all beds for overnight admissions are to be vacated by {17}00'\n",
    "        plot_cumulative_arrival_rates(\n",
    "            scenario['data'],\n",
    "            title,\n",
    "            curve_params=(x1, y1, x2, y2),\n",
    "            start_plot_index=8,\n",
    "            draw_window=(start_of_influencable_window, 17),\n",
    "            media_file_path=scenario[\"file_path\"],\n",
    "            file_prefix='7_',\n",
    "            set_y_lim=60,\n",
    "            num_days=scenario[\"num_days\"]\n",
    "        )\n",
    "        \n",
    "        # Second plot: 20:00 vacancy requirement\n",
    "        title = f'Cumulative number of beds to be vacated on {scenario[\"label\"]}, by hour of the day, after applying aspirational ED performance curve,\\n if all beds for overnight admissions are to be vacated by {20}00'\n",
    "        plot_cumulative_arrival_rates(\n",
    "            scenario['data'],\n",
    "            title,\n",
    "            curve_params=(x1, y1, x2, y2),\n",
    "            start_plot_index=8,\n",
    "            draw_window=(start_of_influencable_window, 20),\n",
    "            media_file_path=scenario[\"file_path\"],\n",
    "            file_prefix='7_',\n",
    "            set_y_lim=60,\n",
    "            hour_lines=[12,17,20],\n",
    "            num_days=scenario[\"num_days\"]\n",
    "        )\n",
    "\n",
    "plot_average_beds_needed_using_aspirational_curve(scenarios)"
   ]
  },
  {
   "cell_type": "markdown",
   "id": "0cb5ba18-7eaa-41fb-8906-4da1b451200d",
   "metadata": {
    "jp-MarkdownHeadingCollapsed": true
   },
   "source": [
    "## Cumulative plot with probabilities\n",
    "\n",
    "Up to now, we have worked with the average number of beds needed. If this number of beds were ready, the hospital would be equipped to hit its ED targets on a day with average arrival rates, but not on a day that exceeds the average. On such days, the performance against 4-hour targets would deteriorate. \n",
    "\n",
    "Here we allow for the idea that a hospital might set an aspiration to hit its ED targets on (say) 90% of days.  \n",
    "\n",
    "The code below shows how to plot a chart that explores how the number of beds needed by a given hour of the day will change if 4-hour targets are to be met on 90% of days. The red line is the same as above (the  beds that need to be vacated to meet average demand), and the blue dotted line shows the number of empty beds would need to be to ensure that enough capacity is available on 90% of days. "
   ]
  },
  {
   "cell_type": "code",
   "execution_count": null,
   "id": "88402e70",
   "metadata": {},
   "outputs": [],
   "source": [
    "\n",
    "\n",
    "# plot showing just 90% centile for weekends\n",
    "title = f'Cumulative number of beds needed on weekends, by hour of day, with 90% probability of hitting ED targets of {int(y1*100)}% in {int(x1)} hours\\non any single day if this number of beds were available'\n",
    "plot_cumulative_arrival_rates(\n",
    "   weekends,\n",
    "    title,\n",
    "    curve_params=(x1, y1, x2, y2),\n",
    "    lagged_by=None,\n",
    "    time_interval=60,\n",
    "    start_plot_index=8,\n",
    "    draw_window=(start_of_influencable_window, 20),\n",
    "    x_margin=0.5,\n",
    "    file_prefix='9_',\n",
    "    set_y_lim=None,\n",
    "    hour_lines=[12,20],\n",
    "    annotation_prefix='To hit target',\n",
    "    line_colour='red',\n",
    "    plot_centiles=True,\n",
    "    highlight_centile=0.9,\n",
    "    centiles=[ 0.9],\n",
    "    markers=['o'],\n",
    "    line_styles_centiles=['-.', '--', ':', '-', '-'],\n",
    "    bed_type_spec='',\n",
    "    media_file_path=media_file_path_weekends,\n",
    "    num_days=num_weekends\n",
    "\n",
    "\n",
    ")"
   ]
  },
  {
   "cell_type": "code",
   "execution_count": null,
   "id": "172c26cd",
   "metadata": {},
   "outputs": [],
   "source": [
    "\n",
    "\n",
    "# plot showing just 90% centile for weekends, with influenceable window\n",
    "title = f'Cumulative number of beds needed on weekends, by hour of day, with 90% probability of hitting ED targets of {int(y1*100)}% in {int(x1)} hours\\non any single day if this number of beds were available'\n",
    "plot_cumulative_arrival_rates(\n",
    "   weekends,\n",
    "    title,\n",
    "    curve_params=(x1, y1, x2, y2),\n",
    "    lagged_by=None,\n",
    "    time_interval=60,\n",
    "    start_plot_index=8,\n",
    "    draw_window=None,\n",
    "    x_margin=0.5,\n",
    "    file_prefix='9_',\n",
    "    set_y_lim=None,\n",
    "    hour_lines=[12,17,20],\n",
    "    annotation_prefix='To hit target',\n",
    "    line_colour='red',\n",
    "    plot_centiles=True,\n",
    "    highlight_centile=0.9,\n",
    "    centiles=[ 0.9],\n",
    "    markers=['o'],\n",
    "    line_styles_centiles=['-.', '--', ':', '-', '-'],\n",
    "    bed_type_spec='',\n",
    "    media_file_path=media_file_path_weekends,\n",
    "    num_days=num_weekends\n",
    "\n",
    "\n",
    ")"
   ]
  },
  {
   "cell_type": "markdown",
   "id": "ca5dea92-c698-4ed0-9c10-3501e896b10b",
   "metadata": {},
   "source": [
    "For completeness, we show here how you could plot any number of centiles of probability. "
   ]
  },
  {
   "cell_type": "code",
   "execution_count": null,
   "id": "a071b700-e23e-4071-b082-df1ecb88cfef",
   "metadata": {},
   "outputs": [],
   "source": [
    "title = f'Cumulative number of beds needed on weekdays, by hour of day, with probability of hitting ED targets of {int(y1*100)}% in {int(x1)} hours\\non any single day if this number of beds were available'\n",
    "plot_cumulative_arrival_rates(\n",
    "   weekdays,\n",
    "    title,\n",
    "    curve_params=(x1, y1, x2, y2),\n",
    "    lagged_by=None,\n",
    "    time_interval=60,\n",
    "    start_plot_index=8,\n",
    "    draw_window=None,\n",
    "    x_margin=0.5,\n",
    "    file_prefix='9_',\n",
    "    set_y_lim=None,\n",
    "    hour_lines=[12, 17],\n",
    "    line_styles={12: '--', 17: ':'},\n",
    "    annotation_prefix='On average',\n",
    "    line_colour='red',\n",
    "    plot_centiles=True,\n",
    "    highlight_centile=0.9,\n",
    "    centiles=[0.3, 0.5, 0.7, 0.9, 0.99],\n",
    "    markers=['D', 's', '^', 'o', 'v'],\n",
    "    line_styles_centiles=['-.', '--', ':', '-', '-'],\n",
    "    bed_type_spec='',\n",
    "    media_file_path=media_file_path_weekdays,\n",
    "    num_days=num_weekdays\n",
    "\n",
    ")\n",
    "\n",
    "title = f'Cumulative number of beds needed on weekends, by hour of day, with probability of hitting ED targets of {int(y1*100)}% in {int(x1)} hours\\non any single day if this number of beds were available'\n",
    "plot_cumulative_arrival_rates(\n",
    "   weekends,\n",
    "    title,\n",
    "    curve_params=(x1, y1, x2, y2),\n",
    "    lagged_by=None,\n",
    "    time_interval=60,\n",
    "    start_plot_index=8,\n",
    "    draw_window=None,\n",
    "    x_margin=0.5,\n",
    "    file_prefix='9_',\n",
    "    set_y_lim=None,\n",
    "    hour_lines=[12, 17],\n",
    "    line_styles={12: '--', 17: ':'},\n",
    "    annotation_prefix='On average',\n",
    "    line_colour='red',\n",
    "    plot_centiles=True,\n",
    "    highlight_centile=0.9,\n",
    "    centiles=[0.3, 0.5, 0.7, 0.9, 0.99],\n",
    "    markers=['D', 's', '^', 'o', 'v'],\n",
    "    line_styles_centiles=['-.', '--', ':', '-', '-'],\n",
    "    bed_type_spec='',\n",
    "    media_file_path=media_file_path_weekends,\n",
    "    num_days=num_weekends\n",
    "\n",
    "\n",
    ")"
   ]
  },
  {
   "cell_type": "markdown",
   "id": "479373d2",
   "metadata": {},
   "source": [
    "## Plot by reporting unit"
   ]
  },
  {
   "cell_type": "code",
   "execution_count": null,
   "id": "ebe09c6e-f6a3-4ab8-a7f6-2f50afafa390",
   "metadata": {},
   "outputs": [],
   "source": [
    "from patientflow.viz.arrival_rates import plot_cumulative_arrival_rates\n",
    "\n",
    "def plot_by_specialty(scenario, specialties, specialty_name):\n",
    "\n",
    "    for _spec in specialties:\n",
    "        inpatient_arrivals = scenario['data']\n",
    "        inpatient_arrivals_spec = inpatient_arrivals[(~inpatient_arrivals[specialty_name].isnull()) & (inpatient_arrivals[specialty_name] == _spec)]\n",
    "        __spec = _spec.replace('/', '_')\n",
    "        \n",
    "        title = f'Cumulative number of {__spec} beds needed on {scenario[\"label\"]}, by hour of day, to hit ED performance targets'\n",
    "    \n",
    "        plot_cumulative_arrival_rates(\n",
    "        inpatient_arrivals_spec,\n",
    "            title,\n",
    "            curve_params=(x1, y1, x2, y2),\n",
    "            lagged_by=None,\n",
    "            time_interval=60,\n",
    "            start_plot_index=8,\n",
    "            draw_window=None,\n",
    "            x_margin=0.5,\n",
    "            file_prefix='A_',\n",
    "            set_y_lim=None,\n",
    "            hour_lines=[12, 20],\n",
    "            annotation_prefix='To hit target',\n",
    "            line_colour='red',\n",
    "            plot_centiles=True,\n",
    "            highlight_centile=0.8,\n",
    "            centiles=[0.8],\n",
    "            markers=['o'],\n",
    "            line_styles_centiles=['-.', '--', ':', '-', '-'],\n",
    "            bed_type_spec=__spec, \n",
    "            text_y_offset=0.5,\n",
    "            media_file_path=media_file_path_weekends,\n",
    "            num_days=scenario['num_days'],\n",
    "            min_threshold=2\n",
    "\n",
    "        )"
   ]
  },
  {
   "cell_type": "code",
   "execution_count": null,
   "id": "e153f193-bb55-4278-b1dd-9afa7468637d",
   "metadata": {},
   "outputs": [],
   "source": [
    "inpatient_arrivals.columns"
   ]
  },
  {
   "cell_type": "code",
   "execution_count": null,
   "id": "814ce20c-3669-4b44-8756-f845acb7eda6",
   "metadata": {},
   "outputs": [],
   "source": [
    "\n",
    "specialties = inpatient_arrivals[(inpatient_arrivals.index > '2023-01-01') & (~inpatient_arrivals.DestinationReportUnit.isnull())]['DestinationReportUnit'].unique()\n",
    "plot_by_specialty(scenarios['weekdays'], specialties, specialty_name = 'DestinationReportUnit' )"
   ]
  },
  {
   "cell_type": "markdown",
   "id": "19ee1289-87fb-46a3-b2b6-c41c5fd797cf",
   "metadata": {},
   "source": [
    "### Plots by division"
   ]
  },
  {
   "cell_type": "code",
   "execution_count": null,
   "id": "df87aa8c-737b-4a67-bcc2-357afc0510c3",
   "metadata": {},
   "outputs": [],
   "source": [
    "inpatient_arrivals.groupby('DestinationDivision')['DestinationReportUnit'].value_counts(dropna=False)"
   ]
  },
  {
   "cell_type": "code",
   "execution_count": null,
   "id": "97979990-7ded-46bd-853e-be4ec3d91294",
   "metadata": {},
   "outputs": [],
   "source": [
    "\n",
    "specialties = inpatient_arrivals_no_nan.DestinationDivision.unique()\n",
    "plot_by_specialty(scenarios['weekdays'], specialties, specialty_name = 'DestinationDivision' )\n",
    "\n"
   ]
  },
  {
   "cell_type": "markdown",
   "id": "91f50c47-6f8e-4b69-bd54-bce4f6ff81f6",
   "metadata": {},
   "source": [
    "## "
   ]
  },
  {
   "cell_type": "markdown",
   "id": "42aa2429-33d1-45a8-a917-7b7b1ed72951",
   "metadata": {},
   "source": [
    "## "
   ]
  },
  {
   "cell_type": "markdown",
   "id": "2160922d-e72d-4003-8d7c-89df0868f759",
   "metadata": {},
   "source": [
    "## "
   ]
  },
  {
   "cell_type": "markdown",
   "id": "c00607fc-f8db-4c57-b52b-32ef1267795e",
   "metadata": {},
   "source": [
    "## "
   ]
  },
  {
   "cell_type": "markdown",
   "id": "75a5b387-c6be-4bf0-87c1-21260f2d4826",
   "metadata": {},
   "source": [
    "## Conclusion\n",
    "\n",
    "The charts above have used in presentations with UCLH's patient flow improvement group, as part of a wider project on Emergency Patient Pathways. They help to focus attention on a very intractable problem. Hospitals are full, most of the time. Beds are vacated at certain times of day, typically afternoons and early evening. People show up at the ED/SDEC all through the day, not just at times that suit the way the hospital works. This makes it very difficult to hit ED targets when hospitals are full, unless proactive steps are taken. \n",
    "\n",
    "Note that all the charts have been created using only a very simple set of inputs"
   ]
  }
 ],
 "metadata": {
  "kernelspec": {
   "display_name": "undelayed-demand",
   "language": "python",
   "name": "python3"
  },
  "language_info": {
   "codemirror_mode": {
    "name": "ipython",
    "version": 3
   },
   "file_extension": ".py",
   "mimetype": "text/x-python",
   "name": "python",
   "nbconvert_exporter": "python",
   "pygments_lexer": "ipython3",
   "version": "3.12.9"
  }
 },
 "nbformat": 4,
 "nbformat_minor": 5
}
